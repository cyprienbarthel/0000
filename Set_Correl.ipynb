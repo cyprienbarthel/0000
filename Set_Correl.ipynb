{
 "cells": [
  {
   "cell_type": "code",
   "execution_count": 1,
   "metadata": {},
   "outputs": [],
   "source": [
    "import dateutil\n",
    "import datetime as dt\n",
    "import time\n",
    "import numpy as np\n",
    "import pandas as pd\n",
    "import warnings\n",
    "import matplotlib.pyplot as plt\n",
    "from scipy import signal\n",
    "import datetime as dt\n",
    "import pylab\n",
    "from sklearn.linear_model import LinearRegression\n",
    "import plotly.express as px\n",
    "import plotly.graph_objects as go\n",
    "import plotly.figure_factory as ff\n",
    "import seaborn as sns\n",
    "warnings.filterwarnings(\"ignore\")\n",
    "from plotly.subplots import make_subplots\n",
    "import plotly.graph_objects as go"
   ]
  },
  {
   "cell_type": "code",
   "execution_count": 2,
   "metadata": {},
   "outputs": [],
   "source": [
    "df_set = pd.read_excel('TR_Sets.xlsx')"
   ]
  },
  {
   "cell_type": "code",
   "execution_count": 3,
   "metadata": {},
   "outputs": [],
   "source": [
    "df = pd.read_csv('filtered_joined_df_.csv')"
   ]
  },
  {
   "cell_type": "code",
   "execution_count": 4,
   "metadata": {},
   "outputs": [],
   "source": [
    "customers_names = pd.read_csv('sellin_customers_1.csv')\n",
    "customers_names = customers_names.set_index('CUSTOMER_ID')\n",
    "customers_names = customers_names[['NCUS']]\n",
    "df = df.join(customers_names, on='CUSTOMER_ID')\n",
    "df = df.loc[df['Q_BIL_GROSAL'] > 0]"
   ]
  },
  {
   "cell_type": "code",
   "execution_count": 6,
   "metadata": {},
   "outputs": [],
   "source": [
    "df2 = df.groupby(['LFORSUBARE','CITE']).aggregate({'Q_BIL_GROSAL':'count'})"
   ]
  },
  {
   "cell_type": "code",
   "execution_count": 7,
   "metadata": {},
   "outputs": [],
   "source": [
    "cites_sup3 = set(df2.loc[df2['Q_BIL_GROSAL'] > 3].index.get_level_values(1))"
   ]
  },
  {
   "cell_type": "code",
   "execution_count": 9,
   "metadata": {},
   "outputs": [],
   "source": [
    "df = df.loc[df['CITE'].isin(cites_sup3)]"
   ]
  },
  {
   "cell_type": "code",
   "execution_count": 11,
   "metadata": {},
   "outputs": [
    {
     "data": {
      "text/html": [
       "<div>\n",
       "<style scoped>\n",
       "    .dataframe tbody tr th:only-of-type {\n",
       "        vertical-align: middle;\n",
       "    }\n",
       "\n",
       "    .dataframe tbody tr th {\n",
       "        vertical-align: top;\n",
       "    }\n",
       "\n",
       "    .dataframe thead th {\n",
       "        text-align: right;\n",
       "    }\n",
       "</style>\n",
       "<table border=\"1\" class=\"dataframe\">\n",
       "  <thead>\n",
       "    <tr style=\"text-align: right;\">\n",
       "      <th></th>\n",
       "      <th></th>\n",
       "      <th></th>\n",
       "      <th>Q_BIL_GROSAL</th>\n",
       "      <th>Date</th>\n",
       "    </tr>\n",
       "    <tr>\n",
       "      <th>CITE</th>\n",
       "      <th>Year</th>\n",
       "      <th>Month</th>\n",
       "      <th></th>\n",
       "      <th></th>\n",
       "    </tr>\n",
       "  </thead>\n",
       "  <tbody>\n",
       "    <tr>\n",
       "      <td rowspan=\"2\" valign=\"top\">G002859</td>\n",
       "      <td rowspan=\"2\" valign=\"top\">2019</td>\n",
       "      <td>11</td>\n",
       "      <td>2150</td>\n",
       "      <td>2019-11-01</td>\n",
       "    </tr>\n",
       "    <tr>\n",
       "      <td>12</td>\n",
       "      <td>2350</td>\n",
       "      <td>2019-12-01</td>\n",
       "    </tr>\n",
       "    <tr>\n",
       "      <td rowspan=\"3\" valign=\"top\">G010034</td>\n",
       "      <td rowspan=\"3\" valign=\"top\">2016</td>\n",
       "      <td>1</td>\n",
       "      <td>5</td>\n",
       "      <td>2016-01-01</td>\n",
       "    </tr>\n",
       "    <tr>\n",
       "      <td>2</td>\n",
       "      <td>6</td>\n",
       "      <td>2016-02-01</td>\n",
       "    </tr>\n",
       "    <tr>\n",
       "      <td>6</td>\n",
       "      <td>1</td>\n",
       "      <td>2016-06-01</td>\n",
       "    </tr>\n",
       "    <tr>\n",
       "      <td>...</td>\n",
       "      <td>...</td>\n",
       "      <td>...</td>\n",
       "      <td>...</td>\n",
       "      <td>...</td>\n",
       "    </tr>\n",
       "    <tr>\n",
       "      <td rowspan=\"5\" valign=\"top\">G064203</td>\n",
       "      <td rowspan=\"3\" valign=\"top\">2018</td>\n",
       "      <td>2</td>\n",
       "      <td>2</td>\n",
       "      <td>2018-02-01</td>\n",
       "    </tr>\n",
       "    <tr>\n",
       "      <td>3</td>\n",
       "      <td>3</td>\n",
       "      <td>2018-03-01</td>\n",
       "    </tr>\n",
       "    <tr>\n",
       "      <td>7</td>\n",
       "      <td>4</td>\n",
       "      <td>2018-07-01</td>\n",
       "    </tr>\n",
       "    <tr>\n",
       "      <td rowspan=\"2\" valign=\"top\">2019</td>\n",
       "      <td>7</td>\n",
       "      <td>4</td>\n",
       "      <td>2019-07-01</td>\n",
       "    </tr>\n",
       "    <tr>\n",
       "      <td>10</td>\n",
       "      <td>5</td>\n",
       "      <td>2019-10-01</td>\n",
       "    </tr>\n",
       "  </tbody>\n",
       "</table>\n",
       "<p>18064 rows × 2 columns</p>\n",
       "</div>"
      ],
      "text/plain": [
       "                    Q_BIL_GROSAL       Date\n",
       "CITE    Year Month                         \n",
       "G002859 2019 11             2150 2019-11-01\n",
       "             12             2350 2019-12-01\n",
       "G010034 2016 1                 5 2016-01-01\n",
       "             2                 6 2016-02-01\n",
       "             6                 1 2016-06-01\n",
       "...                          ...        ...\n",
       "G064203 2018 2                 2 2018-02-01\n",
       "             3                 3 2018-03-01\n",
       "             7                 4 2018-07-01\n",
       "        2019 7                 4 2019-07-01\n",
       "             10                5 2019-10-01\n",
       "\n",
       "[18064 rows x 2 columns]"
      ]
     },
     "execution_count": 11,
     "metadata": {},
     "output_type": "execute_result"
    }
   ],
   "source": [
    "df_grouped_cite = df.groupby(['LFORSUBARE', 'CITE','Year','Month']).aggregate({'Year':'mean','Month':'mean','Q_BIL_GROSAL':'sum'})\n",
    "df_grouped_cite['Date'] = pd.to_datetime(df_grouped_cite['Year'].astype(str) + '-'+df_grouped_cite['Month'].astype(str) +'-01')\n",
    "df_grouped_cite = df_grouped_cite.drop(columns =['Year','Month'])"
   ]
  },
  {
   "cell_type": "code",
   "execution_count": 12,
   "metadata": {},
   "outputs": [],
   "source": [
    "df_set_synt = df_set.loc[df_set['TyAr'] == 'ZPF'][['Article', 'Composant']].set_index('Composant')"
   ]
  },
  {
   "cell_type": "code",
   "execution_count": 13,
   "metadata": {},
   "outputs": [
    {
     "data": {
      "text/plain": [
       "272"
      ]
     },
     "execution_count": 13,
     "metadata": {},
     "output_type": "execute_result"
    }
   ],
   "source": [
    "len(set(df_set_synt.index))"
   ]
  },
  {
   "cell_type": "code",
   "execution_count": 237,
   "metadata": {},
   "outputs": [],
   "source": [
    "def get_correl_df(df_grouped_cite, country, print_ok = False):\n",
    "    lags = [-2,-1,0,1,2]\n",
    "    columns_names = ['Composant','Set Parent'] + ['Correlation Lag ' + str(lag) for lag in lags] + ['Correl Max', 'Lag with Correl Max']\n",
    "    df_all_correl = pd.DataFrame(columns = columns_names)\n",
    "    \n",
    "    cites_country = set(df_grouped_cite.loc[country].index.get_level_values(0))\n",
    "    \n",
    "    for cite in set(df_set_synt.index):\n",
    "\n",
    "        df_for_correl = pd.DataFrame()\n",
    "\n",
    "\n",
    "        if cite in cites_country:\n",
    "             \n",
    "            fig = go.Figure()\n",
    "            fig.update_layout(height=400, width=1000)\n",
    "            fig.update_layout(\n",
    "            yaxis_title='Sales_Quantity',\n",
    "            xaxis_title=\"Date\")\n",
    "\n",
    "            df_cite = df_grouped_cite.loc[(country,cite)].set_index('Date')\n",
    "            date_index = pd.date_range(start=df_cite.index[0], periods=1, freq='M')\n",
    "            df_for_correl = pd.DataFrame(index = date_index)\n",
    "            fig.add_trace(go.Scatter(x=df_cite.index, y=df_cite['Q_BIL_GROSAL'], name = 'Composant ' + cite,mode='lines + markers' ))\n",
    "\n",
    "            df_for_correl = pd.concat([df_for_correl,df_cite])\n",
    "\n",
    "\n",
    "            cite_set =   list(df_set_synt.loc[cite]['Article'])\n",
    "\n",
    "\n",
    "            flag = False\n",
    "            for cite_set_i in cite_set:\n",
    "                    if cite_set_i in cites_country:\n",
    "\n",
    "                        df_cite_set = df_grouped_cite.loc[(country,cite_set_i)].set_index('Date')\n",
    "\n",
    "                        df_cite_set=df_cite_set.rename(columns = {'Q_BIL_GROSAL': cite_set_i})\n",
    "\n",
    "\n",
    "                        correls = []\n",
    "\n",
    "                        df_for_correl = pd.concat([df_for_correl,df_cite_set],axis = 1)\n",
    "                        lag_with_correl_max = np.nan\n",
    "                        correl_max = 0\n",
    "                        for lag in lags:\n",
    "\n",
    "                            df_for_correl[cite_set_i + '_shifted_'+ str(lag)] = df_for_correl[cite_set_i].shift(lag)\n",
    "\n",
    "\n",
    "\n",
    "\n",
    "                            if df_for_correl[[cite_set_i + '_shifted_'+ str(lag),'Q_BIL_GROSAL']].dropna().shape[0] > 6:\n",
    "\n",
    "                                start = df_for_correl[cite_set_i + '_shifted_'+ str(lag)].dropna().index[0]\n",
    "                                end = df_for_correl[cite_set_i + '_shifted_'+ str(lag)].dropna().index[-1]\n",
    "\n",
    "\n",
    "                                df_for_correl = df_for_correl.loc[start:end]\n",
    "                                df_for_correl = df_for_correl.fillna(0)\n",
    "\n",
    "                                correl = df_for_correl['Q_BIL_GROSAL'].corr(df_for_correl[cite_set_i + '_shifted_'+ str(lag)],'pearson')\n",
    "                                correls.append(correl)\n",
    "\n",
    "                                if abs(correl) > abs(correl_max):\n",
    "                                    #print(correl, correl_max)\n",
    "                                    lag_with_correl_max = lag\n",
    "                                    correl_max = correl\n",
    "                            else:\n",
    "                                correls.append(np.nan)\n",
    "\n",
    "                        if abs(correl_max) > 0.5:\n",
    "                            flag = True\n",
    "                            fig.add_trace(go.Scatter(x=df_for_correl.index, y=df_for_correl[cite_set_i + '_shifted_'+ str(lag_with_correl_max)], \n",
    "                                                     mode='lines + markers', \n",
    "                                                     name = 'Set ' + cite_set_i + '_shifted_'+ str(lag_with_correl_max) + '  with R2 : ' \n",
    "                                                     + str(round(correl_max,2))))\n",
    "\n",
    "\n",
    "\n",
    "                        df_all_correl = df_all_correl.append(pd.DataFrame([[cite, cite_set_i] + correls +[correl_max,lag_with_correl_max]],\n",
    "                                                                      columns = columns_names))\n",
    "\n",
    "            if flag and print_ok == True:\n",
    "                fig.write_image(cite + \".png\")\n",
    "                fig.show()\n",
    "    \n",
    "    df_all_correl = df_all_correl.set_index(['Composant','Set Parent'])\n",
    "    return df_all_correl"
   ]
  },
  {
   "cell_type": "code",
   "execution_count": 235,
   "metadata": {},
   "outputs": [],
   "source": [
    "country = 'TR Asia'\n",
    "df_all_correl = get_correl_df(df_grouped_cite,country,False)"
   ]
  },
  {
   "cell_type": "code",
   "execution_count": 228,
   "metadata": {},
   "outputs": [],
   "source": [
    "#df_all_correl_sorted = df_all_correl.sort_values('Max Correl').drop(columns = ['Max Correl','Min Correl'])\n",
    "\n",
    "#fig = go.Figure(data=go.Heatmap( \n",
    "#    x=[-2,-1,0,1,2],\n",
    "#                   z=df_all_correl_sorted))\n",
    "#fig.show()"
   ]
  },
  {
   "cell_type": "code",
   "execution_count": 243,
   "metadata": {},
   "outputs": [],
   "source": [
    "def get_stats(df_all_correl, lim):\n",
    "    total_unique_couples = df_all_correl.shape[0]\n",
    "    with_enough_values = total_unique_couples - df_all_correl['Correlation Lag 0'].isna().sum()\n",
    "    df_interest = df_all_correl.loc[abs(df_all_correl['Correl Max']) > lim]\n",
    "    with_1correl_sup06 = df_interest.shape[0]\n",
    "    nb_correl_synchrone = df_interest.loc[(df_interest['Lag with Correl Max'] == 0) & (df_interest['Correl Max'] > 0)].shape[0]\n",
    "    nb_cannibalisation_synchrone = df_interest.loc[(df_interest['Lag with Correl Max'] == 0) & (df_interest['Correl Max'] < 0)].shape[0]\n",
    "    nb_follower_suiveur  = df_interest.loc[(df_interest['Lag with Correl Max'].isin([1,2,-1,-2])) & (df_interest['Correl Max'] > 0)].shape[0]\n",
    "    nb_cannibalisation_asynchrone = df_interest.loc[(df_interest['Lag with Correl Max'].isin([1,2,-1,-2])) & (df_interest['Correl Max'] < 0)].shape[0]\n",
    "    df_summary = pd.DataFrame([total_unique_couples,with_enough_values,with_1correl_sup06,nb_correl_synchrone,\n",
    "                       nb_cannibalisation_synchrone,nb_follower_suiveur,nb_cannibalisation_asynchrone],\n",
    "                       index=['Nb Unique Couple', 'With Enough Value', 'Presenting a Correlation > ' + str(lim)+ ' ', \n",
    "                              'Correl Synchrone','Cannibalisation','Follower-Suiveur','Cannibalisation décalée'], columns=[country])\n",
    "    return df_summary"
   ]
  },
  {
   "cell_type": "code",
   "execution_count": 232,
   "metadata": {},
   "outputs": [],
   "source": [
    "df_summary = get_stats(df_all_correl, lim =0.55)"
   ]
  },
  {
   "cell_type": "code",
   "execution_count": 233,
   "metadata": {},
   "outputs": [
    {
     "data": {
      "text/html": [
       "<div>\n",
       "<style scoped>\n",
       "    .dataframe tbody tr th:only-of-type {\n",
       "        vertical-align: middle;\n",
       "    }\n",
       "\n",
       "    .dataframe tbody tr th {\n",
       "        vertical-align: top;\n",
       "    }\n",
       "\n",
       "    .dataframe thead th {\n",
       "        text-align: right;\n",
       "    }\n",
       "</style>\n",
       "<table border=\"1\" class=\"dataframe\">\n",
       "  <thead>\n",
       "    <tr style=\"text-align: right;\">\n",
       "      <th></th>\n",
       "      <th>TR Asia</th>\n",
       "    </tr>\n",
       "  </thead>\n",
       "  <tbody>\n",
       "    <tr>\n",
       "      <td>Nb Unique Couple in TR Asia</td>\n",
       "      <td>76</td>\n",
       "    </tr>\n",
       "    <tr>\n",
       "      <td>With Enough Value</td>\n",
       "      <td>53</td>\n",
       "    </tr>\n",
       "    <tr>\n",
       "      <td>Presenting a Correlation &gt; 0.55</td>\n",
       "      <td>30</td>\n",
       "    </tr>\n",
       "    <tr>\n",
       "      <td>Correl Synchrone</td>\n",
       "      <td>12</td>\n",
       "    </tr>\n",
       "    <tr>\n",
       "      <td>Cannibalisation</td>\n",
       "      <td>2</td>\n",
       "    </tr>\n",
       "    <tr>\n",
       "      <td>Follower-Suiveur</td>\n",
       "      <td>10</td>\n",
       "    </tr>\n",
       "    <tr>\n",
       "      <td>Cannibalisation décalée</td>\n",
       "      <td>6</td>\n",
       "    </tr>\n",
       "  </tbody>\n",
       "</table>\n",
       "</div>"
      ],
      "text/plain": [
       "                                  TR Asia\n",
       "Nb Unique Couple in TR Asia            76\n",
       "With Enough Value                      53\n",
       "Presenting a Correlation > 0.55        30\n",
       "Correl Synchrone                       12\n",
       "Cannibalisation                         2\n",
       "Follower-Suiveur                       10\n",
       "Cannibalisation décalée                 6"
      ]
     },
     "execution_count": 233,
     "metadata": {},
     "output_type": "execute_result"
    }
   ],
   "source": [
    "df_summary"
   ]
  },
  {
   "cell_type": "code",
   "execution_count": 252,
   "metadata": {},
   "outputs": [
    {
     "name": "stdout",
     "output_type": "stream",
     "text": [
      "TR Asia\n",
      "TR Europe\n",
      "France Boutiques\n"
     ]
    },
    {
     "data": {
      "text/html": [
       "<div>\n",
       "<style scoped>\n",
       "    .dataframe tbody tr th:only-of-type {\n",
       "        vertical-align: middle;\n",
       "    }\n",
       "\n",
       "    .dataframe tbody tr th {\n",
       "        vertical-align: top;\n",
       "    }\n",
       "\n",
       "    .dataframe thead th {\n",
       "        text-align: right;\n",
       "    }\n",
       "</style>\n",
       "<table border=\"1\" class=\"dataframe\">\n",
       "  <thead>\n",
       "    <tr style=\"text-align: right;\">\n",
       "      <th></th>\n",
       "      <th>TR Asia</th>\n",
       "      <th>TR Europe</th>\n",
       "      <th>France Boutiques</th>\n",
       "    </tr>\n",
       "  </thead>\n",
       "  <tbody>\n",
       "    <tr>\n",
       "      <td>Nb Unique Couple</td>\n",
       "      <td>76</td>\n",
       "      <td>60</td>\n",
       "      <td>57</td>\n",
       "    </tr>\n",
       "    <tr>\n",
       "      <td>With Enough Value</td>\n",
       "      <td>53</td>\n",
       "      <td>38</td>\n",
       "      <td>30</td>\n",
       "    </tr>\n",
       "    <tr>\n",
       "      <td>Presenting a Correlation &gt; 0.55</td>\n",
       "      <td>30</td>\n",
       "      <td>14</td>\n",
       "      <td>14</td>\n",
       "    </tr>\n",
       "    <tr>\n",
       "      <td>Correl Synchrone</td>\n",
       "      <td>12</td>\n",
       "      <td>1</td>\n",
       "      <td>0</td>\n",
       "    </tr>\n",
       "    <tr>\n",
       "      <td>Cannibalisation</td>\n",
       "      <td>2</td>\n",
       "      <td>0</td>\n",
       "      <td>1</td>\n",
       "    </tr>\n",
       "    <tr>\n",
       "      <td>Follower-Suiveur</td>\n",
       "      <td>10</td>\n",
       "      <td>7</td>\n",
       "      <td>11</td>\n",
       "    </tr>\n",
       "    <tr>\n",
       "      <td>Cannibalisation décalée</td>\n",
       "      <td>6</td>\n",
       "      <td>6</td>\n",
       "      <td>2</td>\n",
       "    </tr>\n",
       "  </tbody>\n",
       "</table>\n",
       "</div>"
      ],
      "text/plain": [
       "                                  TR Asia  TR Europe  France Boutiques\n",
       "Nb Unique Couple                       76         60                57\n",
       "With Enough Value                      53         38                30\n",
       "Presenting a Correlation > 0.55        30         14                14\n",
       "Correl Synchrone                       12          1                 0\n",
       "Cannibalisation                         2          0                 1\n",
       "Follower-Suiveur                       10          7                11\n",
       "Cannibalisation décalée                 6          6                 2"
      ]
     },
     "execution_count": 252,
     "metadata": {},
     "output_type": "execute_result"
    }
   ],
   "source": [
    "df_summary_all = pd.DataFrame()\n",
    "for country in ['TR Asia', 'TR Europe','France Boutiques']:\n",
    "    print(country)\n",
    "    df_all_correl = get_correl_df(df_grouped_cite,country,False)\n",
    "    df_summary = get_stats(df_all_correl, lim =0.55)\n",
    "    if df_summary.loc['With Enough Value'][country] > 0:\n",
    "        df_summary_all = pd.concat([df_summary_all,df_summary], axis = 1)\n",
    "df_summary_all"
   ]
  },
  {
   "cell_type": "code",
   "execution_count": 253,
   "metadata": {},
   "outputs": [],
   "source": [
    "df_summary_all.to_excel('Correl_Analyses.xlsx')"
   ]
  },
  {
   "cell_type": "code",
   "execution_count": null,
   "metadata": {},
   "outputs": [],
   "source": []
  }
 ],
 "metadata": {
  "kernelspec": {
   "display_name": "Python 3",
   "language": "python",
   "name": "python3"
  },
  "language_info": {
   "codemirror_mode": {
    "name": "ipython",
    "version": 3
   },
   "file_extension": ".py",
   "mimetype": "text/x-python",
   "name": "python",
   "nbconvert_exporter": "python",
   "pygments_lexer": "ipython3",
   "version": "3.7.4"
  },
  "varInspector": {
   "cols": {
    "lenName": 16,
    "lenType": 16,
    "lenVar": 40
   },
   "kernels_config": {
    "python": {
     "delete_cmd_postfix": "",
     "delete_cmd_prefix": "del ",
     "library": "var_list.py",
     "varRefreshCmd": "print(var_dic_list())"
    },
    "r": {
     "delete_cmd_postfix": ") ",
     "delete_cmd_prefix": "rm(",
     "library": "var_list.r",
     "varRefreshCmd": "cat(var_dic_list()) "
    }
   },
   "oldHeight": 122.66666599999999,
   "position": {
    "height": "40px",
    "left": "1025px",
    "right": "20px",
    "top": "212px",
    "width": "250px"
   },
   "types_to_exclude": [
    "module",
    "function",
    "builtin_function_or_method",
    "instance",
    "_Feature"
   ],
   "varInspector_section_display": "none",
   "window_display": true
  }
 },
 "nbformat": 4,
 "nbformat_minor": 2
}
